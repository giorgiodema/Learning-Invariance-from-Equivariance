{
 "cells": [
  {
   "cell_type": "code",
   "execution_count": 1,
   "metadata": {},
   "outputs": [],
   "source": [
    "import torch\n",
    "import torchvision\n",
    "from torchvision.transforms import ToTensor, Lambda,Compose,Resize,Normalize\n",
    "import matplotlib.pyplot as plt\n",
    "from functools import reduce\n",
    "from models.equivariant import *\n",
    "from groupconv.groups import *\n",
    "from utils.train import count_params, train,val\n",
    "from data.loader import get_loader\n",
    "import os"
   ]
  },
  {
   "cell_type": "code",
   "execution_count": 2,
   "metadata": {},
   "outputs": [
    {
     "data": {
      "text/plain": [
       "<torch._C.Generator at 0x7f34f401e050>"
      ]
     },
     "execution_count": 2,
     "metadata": {},
     "output_type": "execute_result"
    }
   ],
   "source": [
    "torch.manual_seed(1)"
   ]
  },
  {
   "cell_type": "code",
   "execution_count": 3,
   "metadata": {},
   "outputs": [],
   "source": [
    "BS=1\n",
    "EPOCHS=15\n",
    "NCLASSES = 10\n",
    "NAME = \"C4SimpleCNNAVGPoolSigmoid_FashionMNIST\""
   ]
  },
  {
   "cell_type": "markdown",
   "metadata": {},
   "source": [
    "Get a random sample from the testset"
   ]
  },
  {
   "cell_type": "code",
   "execution_count": 4,
   "metadata": {},
   "outputs": [
    {
     "data": {
      "image/png": "[encoded data removed]",
      "text/plain": [
       "<Figure size 432x288 with 1 Axes>"
      ]
     },
     "metadata": {
      "needs_background": "light"
     },
     "output_type": "display_data"
    },
    {
     "name": "stdout",
     "output_type": "stream",
     "text": [
      "True label:tensor([5])\n"
     ]
    }
   ],
   "source": [
    "testloader = get_loader(\"test\",BS,NCLASSES)\n",
    "it = iter(testloader)\n",
    "x,y = next(it)\n",
    "plt.imshow(x[0,0,:,:])\n",
    "plt.show()\n",
    "label = torch.argmax(y,dim=-1)\n",
    "print(f\"True label:{label}\")"
   ]
  },
  {
   "cell_type": "markdown",
   "metadata": {},
   "source": [
    "Now we do the same plots but the second sample is no more a rotation of the first sample but it is a sample from a different class"
   ]
  },
  {
   "cell_type": "code",
   "execution_count": 5,
   "metadata": {},
   "outputs": [
    {
     "data": {
      "image/png": "[encoded data removed]",
      "text/plain": [
       "<Figure size 432x288 with 1 Axes>"
      ]
     },
     "metadata": {
      "needs_background": "light"
     },
     "output_type": "display_data"
    }
   ],
   "source": [
    "x_hat,y_hat = next(it)\n",
    "plt.imshow(x_hat[0,0,:,:])\n",
    "plt.show()"
   ]
  },
  {
   "cell_type": "markdown",
   "metadata": {},
   "source": [
    "Instantiate the Group Equivariant Convolutional Network trained on the dataset without augmentation"
   ]
  },
  {
   "cell_type": "code",
   "execution_count": 6,
   "metadata": {},
   "outputs": [
    {
     "name": "stdout",
     "output_type": "stream",
     "text": [
      "EqSimpleCNNAVGPoolingSigmoid(\n",
      "  (c1): LiftingConvolution(\n",
      "    (kernel): InterpolativeLiftingKernel(\n",
      "      (group): CyclicGroup()\n",
      "    )\n",
      "  )\n",
      "  (r1): Sigmoid()\n",
      "  (p1): SpatialAvgPool2d(kernel_size=2, stride=2, padding=0)\n",
      "  (c2): GroupConvolution(\n",
      "    (kernel): InterpolativeGroupKernel(\n",
      "      (group): CyclicGroup()\n",
      "    )\n",
      "  )\n",
      "  (r2): Sigmoid()\n",
      "  (p2): SpatialAvgPool2d(kernel_size=2, stride=2, padding=0)\n",
      "  (c3): GroupConvolution(\n",
      "    (kernel): InterpolativeGroupKernel(\n",
      "      (group): CyclicGroup()\n",
      "    )\n",
      "  )\n",
      "  (r3): Sigmoid()\n",
      "  (gp): SpatialGlobalAvgPool()\n",
      "  (group_pooling): GroupAvgPool()\n",
      "  (clf): Linear(in_features=128, out_features=10, bias=True)\n",
      ")\n"
     ]
    },
    {
     "name": "stderr",
     "output_type": "stream",
     "text": [
      "/home/giorgio/.local/lib/python3.8/site-packages/torch/functional.py:568: UserWarning: torch.meshgrid: in an upcoming release, it will be required to pass the indexing argument. (Triggered internally at  ../aten/src/ATen/native/TensorShape.cpp:2228.)\n",
      "  return _VF.meshgrid(tensors, **kwargs)  # type: ignore[attr-defined]\n"
     ]
    }
   ],
   "source": [
    "m = EqSimpleCNNAVGPoolingSigmoid(CyclicGroup(4),4,NCLASSES)\n",
    "m.eval()\n",
    "print(m)"
   ]
  },
  {
   "cell_type": "code",
   "execution_count": 7,
   "metadata": {},
   "outputs": [
    {
     "data": {
      "text/plain": [
       "<All keys matched successfully>"
      ]
     },
     "execution_count": 7,
     "metadata": {},
     "output_type": "execute_result"
    }
   ],
   "source": [
    "ret = m.load_state_dict(torch.load(f\"ckpt/{NAME}.pth\"))\n",
    "ret"
   ]
  },
  {
   "cell_type": "markdown",
   "metadata": {},
   "source": [
    "Compute the feature maps for all intermediate layers for both the sample both for the 0 rotation and the 90 degree rotation"
   ]
  },
  {
   "cell_type": "code",
   "execution_count": 8,
   "metadata": {},
   "outputs": [],
   "source": [
    "oc1 = m.c1(x)\n",
    "or1 = m.r1(oc1)\n",
    "op1 = m.p1(or1)\n",
    "oc2 = m.c2(op1)\n",
    "or2 = m.r2(oc2)\n",
    "op2 = m.p2(or2)\n",
    "oc3 = m.c3(op2)\n",
    "or3 = m.r3(oc3)\n",
    "ogp = m.gp(or3)\n",
    "ogrp = m.group_pooling(ogp)\n",
    "oclf = m.clf(ogrp)"
   ]
  },
  {
   "cell_type": "code",
   "execution_count": 9,
   "metadata": {},
   "outputs": [],
   "source": [
    "oc1_hat = m.c1(x_hat)\n",
    "or1_hat = m.r1(oc1_hat)\n",
    "op1_hat = m.p1(or1_hat)\n",
    "oc2_hat = m.c2(op1_hat)\n",
    "or2_hat = m.r2(oc2_hat)\n",
    "op2_hat = m.p2(or2_hat)\n",
    "oc3_hat = m.c3(op2_hat)\n",
    "or3_hat = m.r3(oc3_hat)\n",
    "ogp_hat = m.gp(or3_hat)\n",
    "ogrp_hat = m.group_pooling(ogp_hat)\n",
    "oclf_hat = m.clf(ogrp_hat)"
   ]
  },
  {
   "cell_type": "code",
   "execution_count": 10,
   "metadata": {},
   "outputs": [],
   "source": [
    "feature_maps = [oc1,or1,op1,oc2,or2,op2,oc3,or3,ogp,ogrp,oclf]\n",
    "feature_maps_hat = [oc1_hat,or1_hat,op1_hat,oc2_hat,or2_hat,op2_hat,oc3_hat,or3_hat,ogp_hat,ogrp_hat,oclf_hat]"
   ]
  },
  {
   "cell_type": "code",
   "execution_count": 11,
   "metadata": {},
   "outputs": [
    {
     "data": {
      "image/png": "[encoded data removed]",
      "text/plain": [
       "<Figure size 1152x576 with 8 Axes>"
      ]
     },
     "metadata": {
      "needs_background": "light"
     },
     "output_type": "display_data"
    }
   ],
   "source": [
    "layer_idx = 3 # 0 - 8\n",
    "filter_idx = 2\n",
    "fig,ax = plt.subplots(2,4,sharey=True)\n",
    "fig.set_size_inches(16,8)\n",
    "for g in range(4):\n",
    "    f = feature_maps[layer_idx][0,filter_idx,g,...]\n",
    "    f_hat = feature_maps_hat[layer_idx][0,filter_idx,g,...]\n",
    "    if len(f.shape)<2:\n",
    "        ax[0,g].scatter(0,f.detach().numpy())\n",
    "        ax[1,g].scatter(0,f_hat.detach().numpy())\n",
    "    else:\n",
    "        ax[0,g].imshow(f.detach().numpy())\n",
    "        ax[1,g].imshow(f_hat.detach().numpy())\n",
    "plt.show()"
   ]
  },
  {
   "cell_type": "code",
   "execution_count": 12,
   "metadata": {},
   "outputs": [
    {
     "data": {
      "image/png": "[encoded data removed]",
      "text/plain": [
       "<Figure size 1152x576 with 3 Axes>"
      ]
     },
     "metadata": {
      "needs_background": "light"
     },
     "output_type": "display_data"
    }
   ],
   "source": [
    "fig,ax = plt.subplots(3,1,sharey=True)\n",
    "fig.set_size_inches(16,8)\n",
    "ax[0].scatter(np.arange(128),ogrp[0].detach().numpy())\n",
    "ax[1].scatter(np.arange(128),ogrp_hat[0].detach().numpy())\n",
    "ax[2].scatter(np.arange(128),torch.abs(ogrp[0]-ogrp_hat[0]).detach().numpy())\n",
    "plt.show()"
   ]
  }
 ],
 "metadata": {
  "interpreter": {
   "hash": "916dbcbb3f70747c44a77c7bcd40155683ae19c65e1c03b4aa3499c5328201f1"
  },
  "kernelspec": {
   "display_name": "Python 3.8.10 64-bit",
   "language": "python",
   "name": "python3"
  },
  "language_info": {
   "codemirror_mode": {
    "name": "ipython",
    "version": 3
   },
   "file_extension": ".py",
   "mimetype": "text/x-python",
   "name": "python",
   "nbconvert_exporter": "python",
   "pygments_lexer": "ipython3",
   "version": "3.8.10"
  },
  "orig_nbformat": 4
 },
 "nbformat": 4,
 "nbformat_minor": 2
}
